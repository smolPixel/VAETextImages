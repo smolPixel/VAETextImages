{
 "cells": [
  {
   "cell_type": "code",
   "execution_count": 1,
   "id": "dd18e4be",
   "metadata": {},
   "outputs": [],
   "source": [
    "import argparse\n",
    "import subprocess, os\n",
    "from process_data import *\n",
    "import random\n",
    "import numpy as np\n",
    "import torch\n",
    "from data.dataset import create_datasets\n",
    "from Generator.Generator import generator\n",
    "import yaml\n",
    "import matplotlib.pyplot as plt\n",
    "\n",
    "def set_seed(seed=42):\n",
    "    random.seed(seed)\n",
    "    np.random.seed(seed)\n",
    "    torch.manual_seed(seed)\n",
    "    torch.cuda.manual_seed_all(seed)\n",
    "    \n",
    "stream=open(\"Configs/MNIST/VAEAnneal.yaml\", \"r\")\n",
    "argsdict=yaml.safe_load(stream)\n",
    "if argsdict['computer'] == 'home':\n",
    "    argsdict['path'] = \"/media/frederic/VAETI\"\n",
    "elif argsdict['computer'] == 'labo':\n",
    "    argsdict['path'] = \"/u/piedboef/Documents/VAETI\"\n",
    "\n",
    "if argsdict['dataset'] == \"SST2\":\n",
    "    categories = [\"neg\", \"pos\"]\n",
    "elif argsdict['dataset'] == \"TREC6\":\n",
    "    categories = [\"ABBR\", \"DESC\", \"ENTY\", \"HUM\", \"LOC\", \"NUM\"]\n",
    "elif argsdict['dataset'] == \"FakeNews\":\n",
    "    categories = [\"Fake\", \"Real\"]\n",
    "elif argsdict['dataset'] == \"QNLI\":\n",
    "    categories = [\"entailment\", \"not_entailment\"]\n",
    "elif argsdict['dataset'] == \"Irony\":\n",
    "    categories = [\"NotIro\", \"Iro\"]\n",
    "elif argsdict['dataset'] == \"IronyB\":\n",
    "    categories = [\"Clash\", \"Situational\", \"Other\", \"NotIro\"]\n",
    "elif argsdict['dataset'] == 'MNIST':\n",
    "    categories = [0,1,2,3,4,5,6,7,8,9]\n",
    "else:\n",
    "    raise ValueError(\"Dataset not found\")\n",
    "argsdict['categories'] = categories\n",
    "\n",
    "argdict=argsdict\n",
    "    "
   ]
  },
  {
   "cell_type": "code",
   "execution_count": 2,
   "id": "2f00d9c9",
   "metadata": {},
   "outputs": [
    {
     "name": "stdout",
     "output_type": "stream",
     "text": [
      "VAE_model(\n",
      "  (encoder): encoder(\n",
      "    (model): Linear_Encoder(\n",
      "      (fc1): Linear(in_features=784, out_features=512, bias=True)\n",
      "      (fc2): Linear(in_features=512, out_features=256, bias=True)\n",
      "      (hidden2mean): Linear(in_features=256, out_features=5, bias=True)\n",
      "      (hidden2logv): Linear(in_features=256, out_features=5, bias=True)\n",
      "    )\n",
      "  )\n",
      "  (decoder): decoder(\n",
      "    (model): Linear_Decoder(\n",
      "      (latent2hidden): Linear(in_features=5, out_features=256, bias=True)\n",
      "      (fc5): Linear(in_features=256, out_features=512, bias=True)\n",
      "      (fc6): Linear(in_features=512, out_features=784, bias=True)\n",
      "    )\n",
      "  )\n",
      ")\n"
     ]
    },
    {
     "name": "stderr",
     "output_type": "stream",
     "text": [
      "/u/piedboef/Documents/VAETI/venv/lib/python3.10/site-packages/torch/nn/functional.py:1944: UserWarning: nn.functional.sigmoid is deprecated. Use torch.sigmoid instead.\n",
      "  warnings.warn(\"nn.functional.sigmoid is deprecated. Use torch.sigmoid instead.\")\n"
     ]
    },
    {
     "name": "stdout",
     "output_type": "stream",
     "text": [
      "TRAIN Epoch 0/30, Mean ELBO 156.67621428023938, Mean LF 148.26145935058594, Mean KL div 8.414749145507812\n",
      "DEV Epoch 0/30, Mean ELBO 133.12252015705351, Mean LF 122.37936401367188, Mean KL div 10.74316120147705\n",
      "TRAIN Epoch 1/30, Mean ELBO 129.77067704311636, Mean LF 118.89568328857422, Mean KL div 10.874999046325684\n",
      "DEV Epoch 1/30, Mean ELBO 127.04831270628338, Mean LF 115.74713134765625, Mean KL div 11.301191329956055\n",
      "TRAIN Epoch 2/30, Mean ELBO 125.56196566736975, Mean LF 114.3761978149414, Mean KL div 11.185773849487305\n",
      "DEV Epoch 2/30, Mean ELBO 124.53540676454955, Mean LF 113.5411148071289, Mean KL div 10.994288444519043\n",
      "TRAIN Epoch 3/30, Mean ELBO 123.12948924219886, Mean LF 111.71910095214844, Mean KL div 11.41038703918457\n",
      "DEV Epoch 3/30, Mean ELBO 122.96337224260161, Mean LF 111.36544799804688, Mean KL div 11.597928047180176\n",
      "TRAIN Epoch 4/30, Mean ELBO 121.3400059456049, Mean LF 109.76789855957031, Mean KL div 11.57210636138916\n",
      "DEV Epoch 4/30, Mean ELBO 121.73791291442099, Mean LF 110.03475952148438, Mean KL div 11.703161239624023\n",
      "TRAIN Epoch 5/30, Mean ELBO 119.90689334425815, Mean LF 108.19632720947266, Mean KL div 11.71055793762207\n",
      "DEV Epoch 5/30, Mean ELBO 120.92321178581142, Mean LF 108.6453857421875, Mean KL div 12.277812957763672\n",
      "TRAIN Epoch 6/30, Mean ELBO 118.78120998116427, Mean LF 106.91014862060547, Mean KL div 11.871065139770508\n",
      "DEV Epoch 6/30, Mean ELBO 119.78372279299965, Mean LF 107.64805603027344, Mean KL div 12.135658264160156\n",
      "TRAIN Epoch 7/30, Mean ELBO 117.85467754630156, Mean LF 105.88477325439453, Mean KL div 11.969903945922852\n",
      "DEV Epoch 7/30, Mean ELBO 118.99548784086976, Mean LF 107.29740905761719, Mean KL div 11.698078155517578\n",
      "TRAIN Epoch 8/30, Mean ELBO 116.98416862487792, Mean LF 104.91195678710938, Mean KL div 12.072216033935547\n",
      "DEV Epoch 8/30, Mean ELBO 118.86966560460344, Mean LF 107.43292999267578, Mean KL div 11.436739921569824\n",
      "TRAIN Epoch 9/30, Mean ELBO 116.2741727429767, Mean LF 104.1296157836914, Mean KL div 12.144562721252441\n",
      "DEV Epoch 9/30, Mean ELBO 117.93730791309211, Mean LF 105.69367980957031, Mean KL div 12.243622779846191\n",
      "TRAIN Epoch 10/30, Mean ELBO 115.71542602361635, Mean LF 103.48207092285156, Mean KL div 12.233355522155762\n",
      "DEV Epoch 10/30, Mean ELBO 117.46806837637213, Mean LF 105.43907165527344, Mean KL div 12.028999328613281\n",
      "TRAIN Epoch 11/30, Mean ELBO 115.1873205584149, Mean LF 102.90782928466797, Mean KL div 12.279487609863281\n",
      "DEV Epoch 11/30, Mean ELBO 116.57046885430059, Mean LF 104.49041748046875, Mean KL div 12.080059051513672\n",
      "TRAIN Epoch 12/30, Mean ELBO 114.70094992171886, Mean LF 102.37498474121094, Mean KL div 12.325967788696289\n",
      "DEV Epoch 12/30, Mean ELBO 116.67798653131798, Mean LF 104.077880859375, Mean KL div 12.60009765625\n",
      "TRAIN Epoch 13/30, Mean ELBO 114.29138345053029, Mean LF 101.92694091796875, Mean KL div 12.364442825317383\n",
      "DEV Epoch 13/30, Mean ELBO 116.42785567271558, Mean LF 103.6319580078125, Mean KL div 12.795886993408203\n",
      "TRAIN Epoch 14/30, Mean ELBO 113.92680268398551, Mean LF 101.49552154541016, Mean KL div 12.431282043457031\n",
      "DEV Epoch 14/30, Mean ELBO 116.11807521385482, Mean LF 103.47882843017578, Mean KL div 12.639243125915527\n",
      "TRAIN Epoch 15/30, Mean ELBO 113.62762198337289, Mean LF 101.13996887207031, Mean KL div 12.487651824951172\n",
      "DEV Epoch 15/30, Mean ELBO 116.47019118296949, Mean LF 104.26036071777344, Mean KL div 12.209835052490234\n",
      "TRAIN Epoch 16/30, Mean ELBO 113.3514763676843, Mean LF 100.84429168701172, Mean KL div 12.507180213928223\n",
      "DEV Epoch 16/30, Mean ELBO 115.91288950473448, Mean LF 103.75849151611328, Mean KL div 12.154397964477539\n",
      "TRAIN Epoch 17/30, Mean ELBO 113.02857231317564, Mean LF 100.47785186767578, Mean KL div 12.5507230758667\n",
      "DEV Epoch 17/30, Mean ELBO 115.62435845483708, Mean LF 103.19329833984375, Mean KL div 12.431053161621094\n",
      "TRAIN Epoch 18/30, Mean ELBO 112.77794940859772, Mean LF 100.21141815185547, Mean KL div 12.566530227661133\n",
      "DEV Epoch 18/30, Mean ELBO 115.79550615141663, Mean LF 103.31297302246094, Mean KL div 12.48253345489502\n",
      "TRAIN Epoch 19/30, Mean ELBO 112.484282338342, Mean LF 99.90087127685547, Mean KL div 12.583414077758789\n",
      "DEV Epoch 19/30, Mean ELBO 115.4499518478973, Mean LF 102.80223083496094, Mean KL div 12.647726058959961\n",
      "TRAIN Epoch 20/30, Mean ELBO 112.35448161280432, Mean LF 99.73047637939453, Mean KL div 12.62399959564209\n",
      "DEV Epoch 20/30, Mean ELBO 115.34896290453175, Mean LF 102.68035125732422, Mean KL div 12.668608665466309\n",
      "TRAIN Epoch 21/30, Mean ELBO 112.1491220607314, Mean LF 99.50714874267578, Mean KL div 12.641975402832031\n",
      "DEV Epoch 21/30, Mean ELBO 115.60917190358609, Mean LF 102.6612319946289, Mean KL div 12.947935104370117\n",
      "TRAIN Epoch 22/30, Mean ELBO 111.92136679361033, Mean LF 99.2549057006836, Mean KL div 12.666465759277344\n",
      "DEV Epoch 22/30, Mean ELBO 115.52383104155335, Mean LF 102.75367736816406, Mean KL div 12.770160675048828\n",
      "TRAIN Epoch 23/30, Mean ELBO 111.72199463955192, Mean LF 99.04690551757812, Mean KL div 12.67508602142334\n",
      "DEV Epoch 23/30, Mean ELBO 115.44247465495822, Mean LF 102.84999084472656, Mean KL div 12.592486381530762\n",
      "TRAIN Epoch 24/30, Mean ELBO 111.64522653624068, Mean LF 98.93014526367188, Mean KL div 12.715088844299316\n",
      "DEV Epoch 24/30, Mean ELBO 115.22084856636917, Mean LF 102.58590698242188, Mean KL div 12.634936332702637\n",
      "TRAIN Epoch 25/30, Mean ELBO 111.45545906244323, Mean LF 98.72750854492188, Mean KL div 12.727950096130371\n",
      "DEV Epoch 25/30, Mean ELBO 115.59679065173185, Mean LF 102.8583984375, Mean KL div 12.73838996887207\n",
      "TRAIN Epoch 26/30, Mean ELBO 111.2958735355111, Mean LF 98.55091094970703, Mean KL div 12.744969367980957\n",
      "DEV Epoch 26/30, Mean ELBO 115.38821295243275, Mean LF 102.71910858154297, Mean KL div 12.669093132019043\n",
      "TRAIN Epoch 27/30, Mean ELBO 111.12040601331134, Mean LF 98.36302947998047, Mean KL div 12.75737190246582\n",
      "DEV Epoch 27/30, Mean ELBO 115.01152917403209, Mean LF 102.5818099975586, Mean KL div 12.429719924926758\n",
      "TRAIN Epoch 28/30, Mean ELBO 111.0076572329499, Mean LF 98.22590637207031, Mean KL div 12.781743049621582\n",
      "DEV Epoch 28/30, Mean ELBO 114.95843795583218, Mean LF 102.43846893310547, Mean KL div 12.5199613571167\n",
      "TRAIN Epoch 29/30, Mean ELBO 110.85164586444233, Mean LF 98.0621109008789, Mean KL div 12.789532661437988\n",
      "DEV Epoch 29/30, Mean ELBO 115.1507393559323, Mean LF 102.36430358886719, Mean KL div 12.786434173583984\n"
     ]
    },
    {
     "name": "stderr",
     "output_type": "stream",
     "text": [
      "/u/piedboef/Documents/VAETI/venv/lib/python3.10/site-packages/sklearn/manifold/_t_sne.py:795: FutureWarning: The default initialization in TSNE will change from 'random' to 'pca' in 1.2.\n",
      "  warnings.warn(\n",
      "/u/piedboef/Documents/VAETI/venv/lib/python3.10/site-packages/sklearn/manifold/_t_sne.py:805: FutureWarning: The default learning rate in TSNE will change from 200.0 to 'auto' in 1.2.\n",
      "  warnings.warn(\n"
     ]
    },
    {
     "name": "stdout",
     "output_type": "stream",
     "text": [
      "               x          y  labs  \\\n",
      "0      -2.306359 -41.934666   0.0   \n",
      "1      -7.142377 -54.310604   0.0   \n",
      "2      -7.685435  13.080273   7.0   \n",
      "3      49.819038 -15.100550   4.0   \n",
      "4      20.165785 -10.819726   4.0   \n",
      "...          ...        ...   ...   \n",
      "54995 -38.055260 -42.450294   0.0   \n",
      "54996  17.428749  42.969555   1.0   \n",
      "54997  57.844738   0.106846   4.0   \n",
      "54998   9.952097   0.020924   9.0   \n",
      "54999 -29.912725 -53.913471   0.0   \n",
      "\n",
      "                                                  points  \n",
      "0      [0.6487876772880554, 0.03528312221169472, -0.5...  \n",
      "1      [-0.27501240372657776, -0.27837899327278137, -...  \n",
      "2      [-0.745367705821991, -0.5140501260757446, 0.31...  \n",
      "3      [-1.7919052839279175, 1.9089094400405884, -2.0...  \n",
      "4      [-0.004313964396715164, 1.198323369026184, -0....  \n",
      "...                                                  ...  \n",
      "54995  [-0.4372551143169403, 0.46612030267715454, -1....  \n",
      "54996  [0.8301223516464233, -0.5362904071807861, -0.6...  \n",
      "54997  [-1.6772966384887695, -0.7172149419784546, -0....  \n",
      "54998  [-0.16826610267162323, 2.3655598163604736, 0.6...  \n",
      "54999  [-0.48679691553115845, -0.08212093263864517, 0...  \n",
      "\n",
      "[55000 rows x 4 columns]\n"
     ]
    },
    {
     "ename": "NameError",
     "evalue": "name 'sdffd' is not defined",
     "output_type": "error",
     "traceback": [
      "\u001b[0;31m---------------------------------------------------------------------------\u001b[0m",
      "\u001b[0;31mNameError\u001b[0m                                 Traceback (most recent call last)",
      "\u001b[1;32m/u/piedboef/Documents/VAETI/Analysis.ipynb Cell 2'\u001b[0m in \u001b[0;36m<cell line: 3>\u001b[0;34m()\u001b[0m\n\u001b[1;32m      <a href='vscode-notebook-cell://ssh-remote%2Boctal31/u/piedboef/Documents/VAETI/Analysis.ipynb#ch0000001vscode-remote?line=0'>1</a>\u001b[0m train, dev, test\u001b[39m=\u001b[39mcreate_datasets(argdict)\n\u001b[1;32m      <a href='vscode-notebook-cell://ssh-remote%2Boctal31/u/piedboef/Documents/VAETI/Analysis.ipynb#ch0000001vscode-remote?line=1'>2</a>\u001b[0m Gen \u001b[39m=\u001b[39m generator(argdict, train, dev, test)\n\u001b[0;32m----> <a href='vscode-notebook-cell://ssh-remote%2Boctal31/u/piedboef/Documents/VAETI/Analysis.ipynb#ch0000001vscode-remote?line=2'>3</a>\u001b[0m Gen\u001b[39m.\u001b[39;49mtrain()\n",
      "File \u001b[0;32m~/Documents/VAETI/Generator/Generator.py:38\u001b[0m, in \u001b[0;36mgenerator.train\u001b[0;34m(self)\u001b[0m\n\u001b[1;32m     37\u001b[0m \u001b[39mdef\u001b[39;00m \u001b[39mtrain\u001b[39m(\u001b[39mself\u001b[39m):\n\u001b[0;32m---> 38\u001b[0m     \u001b[39mself\u001b[39;49m\u001b[39m.\u001b[39;49mgenerator\u001b[39m.\u001b[39;49mtrain()\n",
      "File \u001b[0;32m~/Documents/VAETI/Generator/VAE/VAE.py:188\u001b[0m, in \u001b[0;36mVAE.train\u001b[0;34m(self)\u001b[0m\n\u001b[1;32m    186\u001b[0m \u001b[39mself\u001b[39m\u001b[39m.\u001b[39minterpolate()\n\u001b[1;32m    187\u001b[0m \u001b[39m# self.generate_from_train()\u001b[39;00m\n\u001b[0;32m--> 188\u001b[0m \u001b[39mself\u001b[39;49m\u001b[39m.\u001b[39;49mcreate_graph()\n",
      "File \u001b[0;32m~/Documents/VAETI/Generator/VAE/VAE.py:157\u001b[0m, in \u001b[0;36mVAE.create_graph\u001b[0;34m(self)\u001b[0m\n\u001b[1;32m    155\u001b[0m \u001b[39mprint\u001b[39m(df)\n\u001b[1;32m    156\u001b[0m df\u001b[39m.\u001b[39mto_csv(\u001b[39mf\u001b[39m\u001b[39m'\u001b[39m\u001b[39mgraph_\u001b[39m\u001b[39m{\u001b[39;00m\u001b[39mself\u001b[39m\u001b[39m.\u001b[39margdict[\u001b[39m\"\u001b[39m\u001b[39mdataset\u001b[39m\u001b[39m\"\u001b[39m]\u001b[39m}\u001b[39;00m\u001b[39m.tsv\u001b[39m\u001b[39m'\u001b[39m, sep\u001b[39m=\u001b[39m\u001b[39m'\u001b[39m\u001b[39m\\t\u001b[39;00m\u001b[39m'\u001b[39m)\n\u001b[0;32m--> 157\u001b[0m sdffd\n",
      "\u001b[0;31mNameError\u001b[0m: name 'sdffd' is not defined"
     ]
    }
   ],
   "source": [
    "train, dev, test=create_datasets(argdict)\n",
    "Gen = generator(argdict, train, dev, test)\n",
    "Gen.train()"
   ]
  },
  {
   "cell_type": "code",
   "execution_count": 4,
   "id": "2dcadb12",
   "metadata": {},
   "outputs": [
    {
     "data": {
      "image/png": "[encoded data removed]",
      "text/plain": [
       "<Figure size 432x288 with 1 Axes>"
      ]
     },
     "metadata": {
      "needs_background": "light"
     },
     "output_type": "display_data"
    }
   ],
   "source": [
    "y=Gen.generator.model.decoder.norm\n",
    "x=np.arange(len(y))\n",
    "\n",
    "plt.plot(x,y)\n",
    "plt.title(\"Norm of the latent2hidden layer in the decoder\")\n",
    "plt.show()"
   ]
  }
 ],
 "metadata": {
  "kernelspec": {
   "display_name": "Python 3.10.4 ('venv': venv)",
   "language": "python",
   "name": "python3"
  },
  "language_info": {
   "codemirror_mode": {
    "name": "ipython",
    "version": 3
   },
   "file_extension": ".py",
   "mimetype": "text/x-python",
   "name": "python",
   "nbconvert_exporter": "python",
   "pygments_lexer": "ipython3",
   "version": "3.10.4"
  },
  "vscode": {
   "interpreter": {
    "hash": "4e246ce75222e989c666f7216c747730a4a8c34eb3bb5a5e2c3570a2df45fd3b"
   }
  }
 },
 "nbformat": 4,
 "nbformat_minor": 5
}
