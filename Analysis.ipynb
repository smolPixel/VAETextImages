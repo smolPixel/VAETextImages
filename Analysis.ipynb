{
 "cells": [
  {
   "cell_type": "code",
   "execution_count": 5,
   "id": "dd18e4be",
   "metadata": {},
   "outputs": [],
   "source": [
    "import argparse\n",
    "import subprocess, os\n",
    "from process_data import *\n",
    "import random\n",
    "import numpy as np\n",
    "import torch\n",
    "from data.dataset import create_datasets\n",
    "from Generator.Generator import generator\n",
    "import yaml\n",
    "import matplotlib.pyplot as plt\n",
    "\n",
    "def set_seed(seed=42):\n",
    "    random.seed(seed)\n",
    "    np.random.seed(seed)\n",
    "    torch.manual_seed(seed)\n",
    "    torch.cuda.manual_seed_all(seed)\n",
    "    \n",
    "stream=open(\"Configs/MNIST/BVAE.yaml\", \"r\")\n",
    "argsdict=yaml.safe_load(stream)\n",
    "if argsdict['computer'] == 'home':\n",
    "    argsdict['path'] = \"/media/frederic/VAETI\"\n",
    "elif argsdict['computer'] == 'labo':\n",
    "    argsdict['path'] = \"/u/piedboef/Documents/VAETI\"\n",
    "\n",
    "if argsdict['dataset'] == \"SST2\":\n",
    "    categories = [\"neg\", \"pos\"]\n",
    "elif argsdict['dataset'] == \"TREC6\":\n",
    "    categories = [\"ABBR\", \"DESC\", \"ENTY\", \"HUM\", \"LOC\", \"NUM\"]\n",
    "elif argsdict['dataset'] == \"FakeNews\":\n",
    "    categories = [\"Fake\", \"Real\"]\n",
    "elif argsdict['dataset'] == \"QNLI\":\n",
    "    categories = [\"entailment\", \"not_entailment\"]\n",
    "elif argsdict['dataset'] == \"Irony\":\n",
    "    categories = [\"NotIro\", \"Iro\"]\n",
    "elif argsdict['dataset'] == \"IronyB\":\n",
    "    categories = [\"Clash\", \"Situational\", \"Other\", \"NotIro\"]\n",
    "elif argsdict['dataset'] == 'MNIST':\n",
    "    categories = [0,1,2,3,4,5,6,7,8,9]\n",
    "else:\n",
    "    raise ValueError(\"Dataset not found\")\n",
    "argsdict['categories'] = categories\n",
    "\n",
    "argdict=argsdict\n",
    "    "
   ]
  },
  {
   "cell_type": "code",
   "execution_count": 6,
   "id": "2f00d9c9",
   "metadata": {},
   "outputs": [
    {
     "name": "stdout",
     "output_type": "stream",
     "text": [
      "VAE_Annealing_model(\n",
      "  (encoder): encoder(\n",
      "    (model): Linear_Encoder(\n",
      "      (fc1): Linear(in_features=784, out_features=512, bias=True)\n",
      "      (fc2): Linear(in_features=512, out_features=256, bias=True)\n",
      "      (hidden2mean): Linear(in_features=256, out_features=5, bias=True)\n",
      "      (hidden2logv): Linear(in_features=256, out_features=5, bias=True)\n",
      "    )\n",
      "  )\n",
      "  (decoder): decoder(\n",
      "    (model): Linear_Decoder(\n",
      "      (latent2hidden): Linear(in_features=5, out_features=256, bias=True)\n",
      "      (fc5): Linear(in_features=256, out_features=512, bias=True)\n",
      "      (fc6): Linear(in_features=512, out_features=784, bias=True)\n",
      "    )\n",
      "  )\n",
      ")\n"
     ]
    },
    {
     "name": "stderr",
     "output_type": "stream",
     "text": [
      "/u/piedboef/Documents/VAETI/venv/lib/python3.10/site-packages/torch/nn/functional.py:1944: UserWarning: nn.functional.sigmoid is deprecated. Use torch.sigmoid instead.\n",
      "  warnings.warn(\"nn.functional.sigmoid is deprecated. Use torch.sigmoid instead.\")\n"
     ]
    },
    {
     "name": "stdout",
     "output_type": "stream",
     "text": [
      "TRAIN Epoch 0/30, Mean ELBO 142.50444466346917, Mean NLL 142.5044403076172, Mean KL div 47.151710510253906 KL Weight 8.445986025300536e-14\n",
      "DEV Epoch 0/30, Mean ELBO 118.49385312237317, Mean NLL 118.49384307861328, Mean KL div 64.02793884277344 KL Weight 8.467127406078605e-14\n",
      "TRAIN Epoch 1/30, Mean ELBO 113.61798644842104, Mean NLL 113.61798858642578, Mean KL div 65.81452941894531 KL Weight 7.25075940517019e-13\n",
      "DEV Epoch 1/30, Mean ELBO 111.86087036132812, Mean NLL 111.86087036132812, Mean KL div 65.8294448852539 KL Weight 7.268908981200247e-13\n",
      "TRAIN Epoch 2/30, Mean ELBO 109.40377566315406, Mean NLL 109.40377807617188, Mean KL div 67.36174774169922 KL Weight 6.2246742765049485e-12\n",
      "DEV Epoch 2/30, Mean ELBO 109.00251499610611, Mean NLL 109.00252532958984, Mean KL div 65.78604888916016 KL Weight 6.240255430523462e-12\n",
      "TRAIN Epoch 3/30, Mean ELBO 106.81075102340344, Mean NLL 106.81075286865234, Mean KL div 68.44387817382812 KL Weight 5.3437947229827864e-11\n",
      "DEV Epoch 3/30, Mean ELBO 106.58838547332377, Mean NLL 106.58838653564453, Mean KL div 67.5255355834961 KL Weight 5.3571709230728584e-11\n",
      "TRAIN Epoch 4/30, Mean ELBO 104.94370581161144, Mean NLL 104.9437026977539, Mean KL div 68.91035461425781 KL Weight 4.587572098179932e-10\n",
      "DEV Epoch 4/30, Mean ELBO 105.7377491238751, Mean NLL 105.73774719238281, Mean KL div 66.40776062011719 KL Weight 4.599055376537186e-10\n",
      "TRAIN Epoch 5/30, Mean ELBO 103.4544019388598, Mean NLL 103.45439910888672, Mean KL div 69.2608642578125 KL Weight 3.938365671267938e-09\n",
      "DEV Epoch 5/30, Mean ELBO 104.43464081196845, Mean NLL 104.43463134765625, Mean KL div 68.5892105102539 KL Weight 3.948223903062473e-09\n",
      "TRAIN Epoch 6/30, Mean ELBO 102.25486374788507, Mean NLL 102.25486755371094, Mean KL div 69.64759063720703 KL Weight 3.381031059416189e-08\n",
      "DEV Epoch 6/30, Mean ELBO 103.73748286766342, Mean NLL 103.73748016357422, Mean KL div 68.47785186767578 KL Weight 3.38949421131021e-08\n",
      "TRAIN Epoch 7/30, Mean ELBO 101.25254297478254, Mean NLL 101.25253295898438, Mean KL div 70.1431655883789 KL Weight 2.902566543802041e-07\n",
      "DEV Epoch 7/30, Mean ELBO 103.19741763344294, Mean NLL 103.19739532470703, Mean KL div 69.03453826904297 KL Weight 2.9098320361313507e-07\n",
      "TRAIN Epoch 8/30, Mean ELBO 100.38420866145644, Mean NLL 100.38414001464844, Mean KL div 71.90499877929688 KL Weight 2.4918067908414077e-06\n",
      "DEV Epoch 8/30, Mean ELBO 102.73562438578546, Mean NLL 102.73544311523438, Mean KL div 72.2879409790039 KL Weight 2.498044085626793e-06\n",
      "TRAIN Epoch 9/30, Mean ELBO 99.674048570145, Mean NLL 99.67340087890625, Mean KL div 73.57844543457031 KL Weight 2.139140415492569e-05\n",
      "DEV Epoch 9/30, Mean ELBO 102.17955847631526, Mean NLL 102.17801666259766, Mean KL div 72.23346710205078 KL Weight 2.144494842091395e-05\n",
      "TRAIN Epoch 10/30, Mean ELBO 99.09242314183435, Mean NLL 99.08694458007812, Mean KL div 73.03987121582031 KL Weight 0.00018361238433583672\n",
      "DEV Epoch 10/30, Mean ELBO 102.29748680018172, Mean NLL 102.28492736816406, Mean KL div 68.2442855834961 KL Weight 0.000184071904963424\n",
      "TRAIN Epoch 11/30, Mean ELBO 98.52005544263262, Mean NLL 98.48107147216797, Mean KL div 63.05520248413086 KL Weight 0.0015740941196394596\n",
      "DEV Epoch 11/30, Mean ELBO 101.67105913765823, Mean NLL 101.58554077148438, Mean KL div 54.194557189941406 KL Weight 0.001578028060403861\n",
      "TRAIN Epoch 12/30, Mean ELBO 98.19835221933764, Mean NLL 97.9356918334961, Mean KL div 49.70198059082031 KL Weight 0.013353938694388782\n",
      "DEV Epoch 12/30, Mean ELBO 101.88683666760409, Mean NLL 101.29621124267578, Mean KL div 44.119300842285156 KL Weight 0.013386917827664779\n",
      "TRAIN Epoch 13/30, Mean ELBO 99.1939908404683, Mean NLL 97.6927719116211, Mean KL div 35.95334243774414 KL Weight 0.1040978385505189\n",
      "DEV Epoch 13/30, Mean ELBO 104.13153597674793, Mean NLL 101.21450805664062, Mean KL div 27.959259033203125 KL Weight 0.10433122311900131\n",
      "TRAIN Epoch 14/30, Mean ELBO 103.99514384602391, Mean NLL 98.47411346435547, Mean KL div 21.736698150634766 KL Weight 0.4993750003255206\n",
      "DEV Epoch 14/30, Mean ELBO 111.21740568136867, Mean NLL 103.0986557006836, Mean KL div 16.23750114440918 KL Weight 0.5\n",
      "TRAIN Epoch 15/30, Mean ELBO 110.8771890418474, Mean NLL 100.08650207519531, Mean KL div 14.960186004638672 KL Weight 0.8954349301406558\n",
      "DEV Epoch 15/30, Mean ELBO 116.34643776809114, Mean NLL 104.3917465209961, Mean KL div 13.34721851348877 KL Weight 0.8956687768809987\n",
      "TRAIN Epoch 16/30, Mean ELBO 113.3441825245702, Mean NLL 100.55843353271484, Mean KL div 13.392930030822754 KL Weight 0.9865800227009787\n",
      "DEV Epoch 16/30, Mean ELBO 117.13531783864468, Mean NLL 103.91837310791016, Mean KL div 13.39627742767334 KL Weight 0.9866130821723351\n",
      "TRAIN Epoch 17/30, Mean ELBO 113.27782627371855, Mean NLL 100.2640380859375, Mean KL div 13.086471557617188 KL Weight 0.9984180281827929\n",
      "DEV Epoch 17/30, Mean ELBO 116.67780313612539, Mean NLL 103.5859375, Mean KL div 13.112564086914062 KL Weight 0.9984219719395961\n",
      "TRAIN Epoch 18/30, Mean ELBO 112.98099871790686, Mean NLL 99.99888610839844, Mean KL div 12.990572929382324 KL Weight 0.9998154674245942\n",
      "DEV Epoch 18/30, Mean ELBO 116.44239642952061, Mean NLL 103.4249267578125, Mean KL div 13.01986312866211 KL Weight 0.9998159280950366\n",
      "TRAIN Epoch 19/30, Mean ELBO 112.73099934777548, Mean NLL 99.77082824707031, Mean KL div 12.961151123046875 KL Weight 0.9999785013732906\n",
      "DEV Epoch 19/30, Mean ELBO 116.5856454583663, Mean NLL 103.93931579589844, Mean KL div 12.64659595489502 KL Weight 0.9999785550515792\n",
      "TRAIN Epoch 20/30, Mean ELBO 112.48575093468955, Mean NLL 99.51382446289062, Mean KL div 12.972041130065918 KL Weight 0.999997495703007\n",
      "DEV Epoch 20/30, Mean ELBO 116.68139745012114, Mean NLL 104.01881408691406, Mean KL div 12.662610054016113 KL Weight 0.9999975019559143\n",
      "TRAIN Epoch 21/30, Mean ELBO 112.23792409675066, Mean NLL 99.27153015136719, Mean KL div 12.966403007507324 KL Weight 0.9999997082884284\n",
      "DEV Epoch 21/30, Mean ELBO 116.37191646913939, Mean NLL 103.70918273925781, Mean KL div 12.662734031677246 KL Weight 0.9999997090167964\n",
      "TRAIN Epoch 22/30, Mean ELBO 112.03121238531068, Mean NLL 99.08712005615234, Mean KL div 12.944097518920898 KL Weight 0.9999999660202146\n",
      "DEV Epoch 22/30, Mean ELBO 116.25201078004474, Mean NLL 103.03821563720703, Mean KL div 13.213800430297852 KL Weight 0.9999999661050578\n",
      "TRAIN Epoch 23/30, Mean ELBO 111.85968942863997, Mean NLL 98.91454315185547, Mean KL div 12.945149421691895 KL Weight 0.9999999960418933\n",
      "DEV Epoch 23/30, Mean ELBO 116.0359494173074, Mean NLL 103.53887176513672, Mean KL div 12.497084617614746 KL Weight 0.999999996051776\n",
      "TRAIN Epoch 24/30, Mean ELBO 111.66241943004519, Mean NLL 98.69481658935547, Mean KL div 12.96760082244873 KL Weight 0.9999999995389433\n",
      "DEV Epoch 24/30, Mean ELBO 116.11669255510161, Mean NLL 103.24459075927734, Mean KL div 12.87209701538086 KL Weight 0.9999999995400946\n",
      "TRAIN Epoch 25/30, Mean ELBO 111.5132117958956, Mean NLL 98.5518569946289, Mean KL div 12.961353302001953 KL Weight 0.9999999999462943\n",
      "DEV Epoch 25/30, Mean ELBO 115.73115182224709, Mean NLL 102.70986938476562, Mean KL div 13.02127742767334 KL Weight 0.9999999999464282\n",
      "TRAIN Epoch 26/30, Mean ELBO 111.37561995927678, Mean NLL 98.4154052734375, Mean KL div 12.960203170776367 KL Weight 0.9999999999937441\n",
      "DEV Epoch 26/30, Mean ELBO 115.7673138002806, Mean NLL 102.68589782714844, Mean KL div 13.08141040802002 KL Weight 0.9999999999937597\n",
      "TRAIN Epoch 27/30, Mean ELBO 111.1846883463305, Mean NLL 98.2281265258789, Mean KL div 12.956572532653809 KL Weight 0.9999999999992712\n",
      "DEV Epoch 27/30, Mean ELBO 116.22631787650192, Mean NLL 103.2433090209961, Mean KL div 12.983010292053223 KL Weight 0.999999999999273\n",
      "TRAIN Epoch 28/30, Mean ELBO 111.05899816113849, Mean NLL 98.076904296875, Mean KL div 12.98208999633789 KL Weight 0.9999999999999152\n",
      "DEV Epoch 28/30, Mean ELBO 115.82188338267652, Mean NLL 103.0589370727539, Mean KL div 12.76294994354248 KL Weight 0.9999999999999154\n",
      "TRAIN Epoch 29/30, Mean ELBO 110.90653301505155, Mean NLL 97.91609954833984, Mean KL div 12.990427017211914 KL Weight 0.99999999999999\n",
      "DEV Epoch 29/30, Mean ELBO 115.68476008161714, Mean NLL 102.6063003540039, Mean KL div 13.078455924987793 KL Weight 0.9999999999999902\n"
     ]
    },
    {
     "name": "stderr",
     "output_type": "stream",
     "text": [
      "/u/piedboef/Documents/VAETI/venv/lib/python3.10/site-packages/sklearn/manifold/_t_sne.py:795: FutureWarning: The default initialization in TSNE will change from 'random' to 'pca' in 1.2.\n",
      "  warnings.warn(\n",
      "/u/piedboef/Documents/VAETI/venv/lib/python3.10/site-packages/sklearn/manifold/_t_sne.py:805: FutureWarning: The default learning rate in TSNE will change from 200.0 to 'auto' in 1.2.\n",
      "  warnings.warn(\n"
     ]
    },
    {
     "name": "stdout",
     "output_type": "stream",
     "text": [
      "               x          y  labs  \\\n",
      "0       0.160034 -27.884785   9.0   \n",
      "1     -42.850842 -20.673702   3.0   \n",
      "2      23.853886  23.650459   2.0   \n",
      "3     -30.400940   4.867249   3.0   \n",
      "4      52.663410  -7.704626   1.0   \n",
      "...          ...        ...   ...   \n",
      "54995 -11.483697 -35.271641   4.0   \n",
      "54996  13.960756 -43.305210   7.0   \n",
      "54997  32.651588  23.993471   2.0   \n",
      "54998 -38.281952  16.933361   6.0   \n",
      "54999 -18.474590  52.035179   0.0   \n",
      "\n",
      "                                                  points  \n",
      "0      [-0.9637450575828552, -0.15875817835330963, -1...  \n",
      "1      [0.8285149335861206, -0.3591155409812927, 0.37...  \n",
      "2      [0.7127755880355835, 1.1372931003570557, 1.102...  \n",
      "3      [0.6728189587593079, -0.5157483816146851, 0.80...  \n",
      "4      [0.8705098628997803, 1.666666865348816, -1.087...  \n",
      "...                                                  ...  \n",
      "54995  [-0.9495552778244019, 0.9460139274597168, -2.1...  \n",
      "54996  [1.3073500394821167, -0.4931800067424774, 0.12...  \n",
      "54997  [0.6265926361083984, 0.9999144673347473, 0.650...  \n",
      "54998  [0.6198710799217224, 0.5158919095993042, -0.86...  \n",
      "54999  [-0.9519568681716919, -1.6663668155670166, 1.6...  \n",
      "\n",
      "[55000 rows x 4 columns]\n"
     ]
    },
    {
     "ename": "NameError",
     "evalue": "name 'sdffd' is not defined",
     "output_type": "error",
     "traceback": [
      "\u001b[0;31m---------------------------------------------------------------------------\u001b[0m",
      "\u001b[0;31mNameError\u001b[0m                                 Traceback (most recent call last)",
      "\u001b[1;32m/u/piedboef/Documents/VAETI/Analysis.ipynb Cell 2'\u001b[0m in \u001b[0;36m<cell line: 3>\u001b[0;34m()\u001b[0m\n\u001b[1;32m      <a href='vscode-notebook-cell://ssh-remote%2Boctal31/u/piedboef/Documents/VAETI/Analysis.ipynb#ch0000001vscode-remote?line=0'>1</a>\u001b[0m train, dev, test\u001b[39m=\u001b[39mcreate_datasets(argdict)\n\u001b[1;32m      <a href='vscode-notebook-cell://ssh-remote%2Boctal31/u/piedboef/Documents/VAETI/Analysis.ipynb#ch0000001vscode-remote?line=1'>2</a>\u001b[0m Gen \u001b[39m=\u001b[39m generator(argdict, train, dev, test)\n\u001b[0;32m----> <a href='vscode-notebook-cell://ssh-remote%2Boctal31/u/piedboef/Documents/VAETI/Analysis.ipynb#ch0000001vscode-remote?line=2'>3</a>\u001b[0m Gen\u001b[39m.\u001b[39;49mtrain()\n",
      "File \u001b[0;32m~/Documents/VAETI/Generator/Generator.py:38\u001b[0m, in \u001b[0;36mgenerator.train\u001b[0;34m(self)\u001b[0m\n\u001b[1;32m     37\u001b[0m \u001b[39mdef\u001b[39;00m \u001b[39mtrain\u001b[39m(\u001b[39mself\u001b[39m):\n\u001b[0;32m---> 38\u001b[0m     \u001b[39mself\u001b[39;49m\u001b[39m.\u001b[39;49mgenerator\u001b[39m.\u001b[39;49mtrain()\n",
      "File \u001b[0;32m~/Documents/VAETI/Generator/VAE_Annealing/VAE.py:168\u001b[0m, in \u001b[0;36mVAE_Annealing.train\u001b[0;34m(self)\u001b[0m\n\u001b[1;32m    166\u001b[0m \u001b[39mself\u001b[39m\u001b[39m.\u001b[39minterpolate()\n\u001b[1;32m    167\u001b[0m \u001b[39m# self.generate_from_train()\u001b[39;00m\n\u001b[0;32m--> 168\u001b[0m \u001b[39mself\u001b[39;49m\u001b[39m.\u001b[39;49mcreate_graph()\n",
      "File \u001b[0;32m~/Documents/VAETI/Generator/VAE_Annealing/VAE.py:137\u001b[0m, in \u001b[0;36mVAE_Annealing.create_graph\u001b[0;34m(self)\u001b[0m\n\u001b[1;32m    135\u001b[0m \u001b[39mprint\u001b[39m(df)\n\u001b[1;32m    136\u001b[0m df\u001b[39m.\u001b[39mto_csv(\u001b[39mf\u001b[39m\u001b[39m'\u001b[39m\u001b[39mgraph_\u001b[39m\u001b[39m{\u001b[39;00m\u001b[39mself\u001b[39m\u001b[39m.\u001b[39margdict[\u001b[39m\"\u001b[39m\u001b[39mdataset\u001b[39m\u001b[39m\"\u001b[39m]\u001b[39m}\u001b[39;00m\u001b[39m.tsv\u001b[39m\u001b[39m'\u001b[39m, sep\u001b[39m=\u001b[39m\u001b[39m'\u001b[39m\u001b[39m\\t\u001b[39;00m\u001b[39m'\u001b[39m)\n\u001b[0;32m--> 137\u001b[0m sdffd\n",
      "\u001b[0;31mNameError\u001b[0m: name 'sdffd' is not defined"
     ]
    }
   ],
   "source": [
    "train, dev, test=create_datasets(argdict)\n",
    "Gen = generator(argdict, train, dev, test)\n",
    "Gen.train()"
   ]
  },
  {
   "cell_type": "code",
   "execution_count": 7,
   "id": "2dcadb12",
   "metadata": {},
   "outputs": [
    {
     "data": {
      "image/png": "[encoded data removed]",
      "text/plain": [
       "<Figure size 432x288 with 1 Axes>"
      ]
     },
     "metadata": {
      "needs_background": "light"
     },
     "output_type": "display_data"
    }
   ],
   "source": [
    "y=Gen.generator.model.decoder.norm\n",
    "x=np.arange(len(y))\n",
    "\n",
    "plt.plot(x,y)\n",
    "plt.title(\"Norm of the latent2hidden layer in the decoder\")\n",
    "plt.show()"
   ]
  }
 ],
 "metadata": {
  "kernelspec": {
   "display_name": "Python 3.10.4 ('venv': venv)",
   "language": "python",
   "name": "python3"
  },
  "language_info": {
   "codemirror_mode": {
    "name": "ipython",
    "version": 3
   },
   "file_extension": ".py",
   "mimetype": "text/x-python",
   "name": "python",
   "nbconvert_exporter": "python",
   "pygments_lexer": "ipython3",
   "version": "3.10.4"
  },
  "vscode": {
   "interpreter": {
    "hash": "4e246ce75222e989c666f7216c747730a4a8c34eb3bb5a5e2c3570a2df45fd3b"
   }
  }
 },
 "nbformat": 4,
 "nbformat_minor": 5
}
