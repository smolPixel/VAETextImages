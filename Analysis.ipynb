{
 "cells": [
  {
   "cell_type": "code",
   "execution_count": 1,
   "id": "dd18e4be",
   "metadata": {},
   "outputs": [],
   "source": [
    "import argparse\n",
    "import subprocess, os\n",
    "from process_data import *\n",
    "import random\n",
    "import numpy as np\n",
    "import torch\n",
    "from data.dataset import create_datasets\n",
    "from Generator.Generator import generator\n",
    "import yaml\n",
    "import matplotlib.pyplot as plt\n",
    "\n",
    "def set_seed(seed=42):\n",
    "    random.seed(seed)\n",
    "    np.random.seed(seed)\n",
    "    torch.manual_seed(seed)\n",
    "    torch.cuda.manual_seed_all(seed)\n",
    "    \n",
    "stream=open(\"Configs/MNIST/VAE.yaml\", \"r\")\n",
    "argsdict=yaml.safe_load(stream)\n",
    "if argsdict['computer'] == 'home':\n",
    "    argsdict['path'] = \"/media/frederic/VAETI\"\n",
    "elif argsdict['computer'] == 'labo':\n",
    "    argsdict['path'] = \"/u/piedboef/Documents/VAETI\"\n",
    "\n",
    "if argsdict['dataset'] == \"SST2\":\n",
    "    categories = [\"neg\", \"pos\"]\n",
    "elif argsdict['dataset'] == \"TREC6\":\n",
    "    categories = [\"ABBR\", \"DESC\", \"ENTY\", \"HUM\", \"LOC\", \"NUM\"]\n",
    "elif argsdict['dataset'] == \"FakeNews\":\n",
    "    categories = [\"Fake\", \"Real\"]\n",
    "elif argsdict['dataset'] == \"QNLI\":\n",
    "    categories = [\"entailment\", \"not_entailment\"]\n",
    "elif argsdict['dataset'] == \"Irony\":\n",
    "    categories = [\"NotIro\", \"Iro\"]\n",
    "elif argsdict['dataset'] == \"IronyB\":\n",
    "    categories = [\"Clash\", \"Situational\", \"Other\", \"NotIro\"]\n",
    "elif argsdict['dataset'] == 'MNIST':\n",
    "    categories = [0,1,2,3,4,5,6,7,8,9]\n",
    "else:\n",
    "    raise ValueError(\"Dataset not found\")\n",
    "argsdict['categories'] = categories\n",
    "\n",
    "argdict=argsdict\n",
    "    "
   ]
  },
  {
   "cell_type": "code",
   "execution_count": 2,
   "id": "2f00d9c9",
   "metadata": {},
   "outputs": [
    {
     "name": "stdout",
     "output_type": "stream",
     "text": [
      "Think about why there aint no embedding dropout on encoder?\n",
      "Think about why there aint no embedding dropout on encoder?\n",
      "VAE_Annealing_model(\n",
      "  (encoder): encoder(\n",
      "    (model): GRU_Encoder(\n",
      "      (embedding): Embedding(14716, 300)\n",
      "      (rnn): GRU(300, 512, batch_first=True)\n",
      "      (hidden2mean): Linear(in_features=512, out_features=5, bias=True)\n",
      "      (hidden2logv): Linear(in_features=512, out_features=5, bias=True)\n",
      "    )\n",
      "  )\n",
      "  (decoder): decoder(\n",
      "    (model): GRU_Decoder(\n",
      "      (latent2hidden): Linear(in_features=5, out_features=512, bias=True)\n",
      "      (embedding): Embedding(14716, 300)\n",
      "      (rnn): GRU(300, 512, batch_first=True)\n",
      "      (outputs2vocab): Linear(in_features=512, out_features=14716, bias=True)\n",
      "    )\n",
      "  )\n",
      ")\n",
      "TRAIN Epoch 0/30, Mean ELBO 139.2926040789403, Mean NLL 139.09230041503906, Mean KL div 10.986664772033691 KL Weight 0.02150984475089023\n",
      "DEV Epoch 0/30, Mean ELBO 131.96490042550224, Mean NLL 131.7869415283203, Mean KL div 8.253652572631836 KL Weight 0.021562525670029403\n",
      "TRAIN Epoch 1/30, Mean ELBO 122.99663641693395, Mean NLL 122.7054214477539, Mean KL div 11.714405059814453 KL Weight 0.028058609114997416\n",
      "DEV Epoch 1/30, Mean ELBO 127.00108391898019, Mean NLL 126.62284088134766, Mean KL div 13.447637557983398 KL Weight 0.02812686792376265\n",
      "TRAIN Epoch 2/30, Mean ELBO 114.83949825741828, Mean NLL 114.36590576171875, Mean KL div 14.760069847106934 KL Weight 0.036526744905122435\n",
      "DEV Epoch 2/30, Mean ELBO 125.86415808541435, Mean NLL 125.34452056884766, Mean KL div 14.19212818145752 KL Weight 0.036614828274489884\n",
      "TRAIN Epoch 3/30, Mean ELBO 107.96221755841457, Mean NLL 107.29194641113281, Mean KL div 16.067707061767578 KL Weight 0.04742587317756678\n",
      "DEV Epoch 3/30, Mean ELBO 124.93100030081612, Mean NLL 124.1486587524414, Mean KL div 16.45680809020996 KL Weight 0.04753894269885335\n",
      "TRAIN Epoch 4/30, Mean ELBO 101.64388044164815, Mean NLL 100.73341369628906, Mean KL div 16.831655502319336 KL Weight 0.06137001434020985\n",
      "DEV Epoch 4/30, Mean ELBO 123.79740088326591, Mean NLL 122.8349380493164, Mean KL div 15.646011352539062 KL Weight 0.061514181694634434\n",
      "TRAIN Epoch 5/30, Mean ELBO 96.50178653822033, Mean NLL 95.32138061523438, Mean KL div 16.91372299194336 KL Weight 0.07907367686984008\n",
      "DEV Epoch 5/30, Mean ELBO 124.95577566964286, Mean NLL 123.69640350341797, Mean KL div 15.889971733093262 KL Weight 0.07925592112967701\n",
      "TRAIN Epoch 6/30, Mean ELBO 91.39449688272738, Mean NLL 89.9030990600586, Mean KL div 16.650957107543945 KL Weight 0.10133303925112525\n",
      "DEV Epoch 6/30, Mean ELBO 125.54041453770229, Mean NLL 123.94487762451172, Mean KL div 15.710029602050781 KL Weight 0.10156092789763664\n",
      "TRAIN Epoch 7/30, Mean ELBO 86.90458315228103, Mean NLL 85.0599136352539, Mean KL div 16.10685157775879 KL Weight 0.12898085214623567\n",
      "DEV Epoch 7/30, Mean ELBO 128.73772757393974, Mean NLL 126.79329681396484, Mean KL div 15.042539596557617 KL Weight 0.12926197473429002\n",
      "TRAIN Epoch 8/30, Mean ELBO 82.8483459752634, Mean NLL 80.62879180908203, Mean KL div 15.29246711730957 KL Weight 0.16280552511342444\n",
      "DEV Epoch 8/30, Mean ELBO 129.70413262503487, Mean NLL 127.34622955322266, Mean KL div 14.452707290649414 KL Weight 0.1631465621405691\n",
      "TRAIN Epoch 9/30, Mean ELBO 79.26959735975353, Mean NLL 76.63780212402344, Mean KL div 14.433444023132324 KL Weight 0.20342887290906733\n",
      "DEV Epoch 9/30, Mean ELBO 129.0048266819545, Mean NLL 126.21528625488281, Mean KL div 13.685349464416504 KL Weight 0.20383428719978697\n",
      "TRAIN Epoch 10/30, Mean ELBO 76.30535759182152, Mean NLL 73.2549819946289, Mean KL div 13.468624114990234 KL Weight 0.25114780447984675\n",
      "DEV Epoch 10/30, Mean ELBO 130.08442197527205, Mean NLL 126.89543151855469, Mean KL div 12.67391300201416 KL Weight 0.25161827839293577\n",
      "TRAIN Epoch 11/30, Mean ELBO 73.04792173193135, Mean NLL 69.56090545654297, Mean KL div 12.557207107543945 KL Weight 0.30576365989196946\n",
      "DEV Epoch 11/30, Mean ELBO 131.34858594621932, Mean NLL 127.83226013183594, Mean KL div 11.480203628540039 KL Weight 0.3062945980446018\n",
      "TRAIN Epoch 12/30, Mean ELBO 70.87687686605192, Mean NLL 66.9805679321289, Mean KL div 11.61794376373291 KL Weight 0.3664446223632249\n",
      "DEV Epoch 12/30, Mean ELBO 133.31970923287528, Mean NLL 129.3343048095703, Mean KL div 10.85865592956543 KL Weight 0.36702522331953935\n",
      "TRAIN Epoch 13/30, Mean ELBO 68.37059622948323, Mean NLL 64.08293151855469, Mean KL div 10.75930118560791 KL Weight 0.4316800165217519\n",
      "DEV Epoch 13/30, Mean ELBO 135.17957251412528, Mean NLL 130.72067260742188, Mean KL div 10.314509391784668 KL Weight 0.43229345192664\n",
      "TRAIN Epoch 14/30, Mean ELBO 66.33776141525408, Mean NLL 61.61521530151367, Mean KL div 10.149734497070312 KL Weight 0.4993750003255206\n",
      "DEV Epoch 14/30, Mean ELBO 136.5566678728376, Mean NLL 131.76144409179688, Mean KL div 9.590452194213867 KL Weight 0.5\n",
      "TRAIN Epoch 15/30, Mean ELBO 64.41604999227262, Mean NLL 59.341156005859375, Mean KL div 9.515844345092773 KL Weight 0.5670929049654543\n",
      "DEV Epoch 15/30, Mean ELBO 140.12744413103377, Mean NLL 134.18365478515625, Mean KL div 10.469804763793945 KL Weight 0.5677065480733601\n",
      "TRAIN Epoch 16/30, Mean ELBO 63.46741912561819, Mean NLL 57.99223709106445, Mean KL div 9.125864028930664 KL Weight 0.6323937895695628\n",
      "DEV Epoch 16/30, Mean ELBO 138.52788380214147, Mean NLL 132.84178161621094, Mean KL div 8.983148574829102 KL Weight 0.6329747766804606\n",
      "TRAIN Epoch 17/30, Mean ELBO 61.495448716189884, Mean NLL 55.79240036010742, Mean KL div 8.59873104095459 KL Weight 0.6931739493259501\n",
      "DEV Epoch 17/30, Mean ELBO 140.21076093401228, Mean NLL 134.236328125, Mean KL div 8.612344741821289 KL Weight 0.6937054019553982\n",
      "TRAIN Epoch 18/30, Mean ELBO 60.10884052241614, Mean NLL 54.1280403137207, Mean KL div 8.292540550231934 KL Weight 0.7479106630456372\n",
      "DEV Epoch 18/30, Mean ELBO 141.00499125889368, Mean NLL 135.3482208251953, Mean KL div 7.558663368225098 KL Weight 0.7483817216070642\n",
      "TRAIN Epoch 19/30, Mean ELBO 58.7932059261777, Mean NLL 52.57786178588867, Mean KL div 8.045376777648926 KL Weight 0.7957596977159083\n",
      "DEV Epoch 19/30, Mean ELBO 142.32404218401228, Mean NLL 136.0630645751953, Mean KL div 7.863923072814941 KL Weight 0.7961657128002131\n",
      "TRAIN Epoch 20/30, Mean ELBO 57.91778952922296, Mean NLL 51.55513000488281, Mean KL div 7.789784908294678 KL Weight 0.8365118259509835\n",
      "DEV Epoch 20/30, Mean ELBO 143.6297367640904, Mean NLL 136.82833862304688, Mean KL div 8.127345085144043 KL Weight 0.8368534378594309\n",
      "TRAIN Epoch 21/30, Mean ELBO 56.725889328422895, Mean NLL 50.123783111572266, Mean KL div 7.729366302490234 KL Weight 0.8704563810803216\n",
      "DEV Epoch 21/30, Mean ELBO 145.42359924316406, Mean NLL 138.7208709716797, Mean KL div 7.697750568389893 KL Weight 0.87073802526571\n",
      "TRAIN Epoch 22/30, Mean ELBO 55.16994784293919, Mean NLL 48.50856018066406, Mean KL div 7.528019428253174 KL Weight 0.8982107290047067\n",
      "DEV Epoch 22/30, Mean ELBO 145.75703866141183, Mean NLL 139.15264892578125, Mean KL div 7.35097074508667 KL Weight 0.8984390721023634\n",
      "TRAIN Epoch 23/30, Mean ELBO 54.06342231680494, Mean NLL 47.255287170410156, Mean KL div 7.482357978820801 KL Weight 0.9205614508160216\n",
      "DEV Epoch 23/30, Mean ELBO 146.89034489222936, Mean NLL 140.2213134765625, Mean KL div 7.243091106414795 KL Weight 0.920744078870323\n",
      "TRAIN Epoch 24/30, Mean ELBO 52.948428337727115, Mean NLL 46.01953125, Mean KL div 7.451213359832764 KL Weight 0.938341334527536\n",
      "DEV Epoch 24/30, Mean ELBO 147.53600202287947, Mean NLL 140.73448181152344, Mean KL div 7.2473320960998535 KL Weight 0.9384858183053656\n",
      "TRAIN Epoch 25/30, Mean ELBO 52.028516786907794, Mean NLL 45.142578125, Mean KL div 7.281418323516846 KL Weight 0.9523477316925439\n",
      "DEV Epoch 25/30, Mean ELBO 148.54494040352958, Mean NLL 142.08316040039062, Mean KL div 6.784287452697754 KL Weight 0.9524610573011467\n",
      "TRAIN Epoch 26/30, Mean ELBO 51.39918549563907, Mean NLL 44.407073974609375, Mean KL div 7.297897815704346 KL Weight 0.9632968840369167\n",
      "DEV Epoch 26/30, Mean ELBO 149.46730586460657, Mean NLL 142.6675262451172, Mean KL div 7.058209419250488 KL Weight 0.9633851717255101\n",
      "TRAIN Epoch 27/30, Mean ELBO 50.49409050897721, Mean NLL 43.43477249145508, Mean KL div 7.2943949699401855 KL Weight 0.9718047120298574\n",
      "DEV Epoch 27/30, Mean ELBO 150.31666019984655, Mean NLL 143.476806640625, Mean KL div 7.0377912521362305 KL Weight 0.9718731320762375\n",
      "TRAIN Epoch 28/30, Mean ELBO 49.407185125788416, Mean NLL 42.33656311035156, Mean KL div 7.249908924102783 KL Weight 0.9783846672373524\n",
      "DEV Epoch 28/30, Mean ELBO 151.44659750802177, Mean NLL 144.51084899902344, Mean KL div 7.088587760925293 KL Weight 0.9784374743299705\n",
      "TRAIN Epoch 29/30, Mean ELBO 48.22334982495789, Mean NLL 41.13727569580078, Mean KL div 7.222946643829346 KL Weight 0.9834551962229334\n",
      "DEV Epoch 29/30, Mean ELBO 152.08184160505022, Mean NLL 145.18931579589844, Mean KL div 7.008191108703613 KL Weight 0.9834958247796682\n",
      "------------------\n",
      "a movie that will surely be profane , politically charged music of the movie .\n",
      "------------------\n",
      "a movie that will surely be profane , politically charged music of the movie .\n",
      "------------------\n",
      "a lot of fun , and to make you laugh for the tissues .\n",
      "------------------\n",
      "a lot of fun , and to make you laugh for the tissues .\n",
      "------------------\n",
      "too much of nemesis has a rather , but one of its best .\n"
     ]
    },
    {
     "name": "stderr",
     "output_type": "stream",
     "text": [
      "/u/piedboef/Documents/VAETI/venv/lib/python3.10/site-packages/sklearn/manifold/_t_sne.py:795: FutureWarning: The default initialization in TSNE will change from 'random' to 'pca' in 1.2.\n",
      "  warnings.warn(\n",
      "/u/piedboef/Documents/VAETI/venv/lib/python3.10/site-packages/sklearn/manifold/_t_sne.py:805: FutureWarning: The default learning rate in TSNE will change from 200.0 to 'auto' in 1.2.\n",
      "  warnings.warn(\n"
     ]
    },
    {
     "name": "stdout",
     "output_type": "stream",
     "text": [
      "              x          y  labs  \\\n",
      "0    -34.118702 -52.279240   1.0   \n",
      "1    -21.474037 -40.310452   0.0   \n",
      "2    -37.995369  27.281136   0.0   \n",
      "3     29.081827  20.324427   1.0   \n",
      "4     38.056541 -24.716887   1.0   \n",
      "...         ...        ...   ...   \n",
      "6915  29.944197 -33.473854   1.0   \n",
      "6916  25.490673   8.651177   0.0   \n",
      "6917  -3.603227  78.015358   0.0   \n",
      "6918  -8.265487 -32.351330   0.0   \n",
      "6919 -30.960226 -58.163673   1.0   \n",
      "\n",
      "                                                 points  \n",
      "0     [-0.850115180015564, -0.030947808176279068, 1....  \n",
      "1     [0.9739819765090942, 0.6366329193115234, 1.605...  \n",
      "2     [0.31409162282943726, -1.8898437023162842, 1.3...  \n",
      "3     [-1.9012365341186523, -0.22458669543266296, -0...  \n",
      "4     [1.8279646635055542, 0.02884170413017273, -0.6...  \n",
      "...                                                 ...  \n",
      "6915  [0.23190248012542725, 0.28226056694984436, -1....  \n",
      "6916  [-0.6505721211433411, -1.0763835906982422, -0....  \n",
      "6917  [-0.03246589004993439, -1.4397327899932861, 1....  \n",
      "6918  [-1.6607528924942017, -0.04561670497059822, 1....  \n",
      "6919  [-1.436701774597168, 1.0212465524673462, 0.719...  \n",
      "\n",
      "[6920 rows x 4 columns]\n"
     ]
    },
    {
     "ename": "NameError",
     "evalue": "name 'sdffd' is not defined",
     "output_type": "error",
     "traceback": [
      "\u001b[0;31m---------------------------------------------------------------------------\u001b[0m",
      "\u001b[0;31mNameError\u001b[0m                                 Traceback (most recent call last)",
      "\u001b[1;32m/u/piedboef/Documents/VAETI/Analysis.ipynb Cell 2'\u001b[0m in \u001b[0;36m<cell line: 3>\u001b[0;34m()\u001b[0m\n\u001b[1;32m      <a href='vscode-notebook-cell://ssh-remote%2Boctal31/u/piedboef/Documents/VAETI/Analysis.ipynb#ch0000001vscode-remote?line=0'>1</a>\u001b[0m train, dev, test\u001b[39m=\u001b[39mcreate_datasets(argdict)\n\u001b[1;32m      <a href='vscode-notebook-cell://ssh-remote%2Boctal31/u/piedboef/Documents/VAETI/Analysis.ipynb#ch0000001vscode-remote?line=1'>2</a>\u001b[0m Gen \u001b[39m=\u001b[39m generator(argdict, train, dev, test)\n\u001b[0;32m----> <a href='vscode-notebook-cell://ssh-remote%2Boctal31/u/piedboef/Documents/VAETI/Analysis.ipynb#ch0000001vscode-remote?line=2'>3</a>\u001b[0m Gen\u001b[39m.\u001b[39;49mtrain()\n",
      "File \u001b[0;32m~/Documents/VAETI/Generator/Generator.py:38\u001b[0m, in \u001b[0;36mgenerator.train\u001b[0;34m(self)\u001b[0m\n\u001b[1;32m     37\u001b[0m \u001b[39mdef\u001b[39;00m \u001b[39mtrain\u001b[39m(\u001b[39mself\u001b[39m):\n\u001b[0;32m---> 38\u001b[0m     \u001b[39mself\u001b[39;49m\u001b[39m.\u001b[39;49mgenerator\u001b[39m.\u001b[39;49mtrain()\n",
      "File \u001b[0;32m~/Documents/VAETI/Generator/VAE_Annealing/VAE.py:168\u001b[0m, in \u001b[0;36mVAE_Annealing.train\u001b[0;34m(self)\u001b[0m\n\u001b[1;32m    166\u001b[0m \u001b[39mself\u001b[39m\u001b[39m.\u001b[39minterpolate()\n\u001b[1;32m    167\u001b[0m \u001b[39m# self.generate_from_train()\u001b[39;00m\n\u001b[0;32m--> 168\u001b[0m \u001b[39mself\u001b[39;49m\u001b[39m.\u001b[39;49mcreate_graph()\n",
      "File \u001b[0;32m~/Documents/VAETI/Generator/VAE_Annealing/VAE.py:137\u001b[0m, in \u001b[0;36mVAE_Annealing.create_graph\u001b[0;34m(self)\u001b[0m\n\u001b[1;32m    135\u001b[0m \u001b[39mprint\u001b[39m(df)\n\u001b[1;32m    136\u001b[0m df\u001b[39m.\u001b[39mto_csv(\u001b[39mf\u001b[39m\u001b[39m'\u001b[39m\u001b[39mgraph_\u001b[39m\u001b[39m{\u001b[39;00m\u001b[39mself\u001b[39m\u001b[39m.\u001b[39margdict[\u001b[39m\"\u001b[39m\u001b[39mdataset\u001b[39m\u001b[39m\"\u001b[39m]\u001b[39m}\u001b[39;00m\u001b[39m.tsv\u001b[39m\u001b[39m'\u001b[39m, sep\u001b[39m=\u001b[39m\u001b[39m'\u001b[39m\u001b[39m\\t\u001b[39;00m\u001b[39m'\u001b[39m)\n\u001b[0;32m--> 137\u001b[0m sdffd\n",
      "\u001b[0;31mNameError\u001b[0m: name 'sdffd' is not defined"
     ]
    }
   ],
   "source": [
    "train, dev, test=create_datasets(argdict)\n",
    "Gen = generator(argdict, train, dev, test)\n",
    "Gen.train()"
   ]
  },
  {
   "cell_type": "code",
   "execution_count": 3,
   "id": "2dcadb12",
   "metadata": {},
   "outputs": [
    {
     "data": {
      "image/png": "[encoded data removed]",
      "text/plain": [
       "<Figure size 432x288 with 1 Axes>"
      ]
     },
     "metadata": {
      "needs_background": "light"
     },
     "output_type": "display_data"
    }
   ],
   "source": [
    "y=Gen.generator.model.decoder.norm\n",
    "x=np.arange(len(y))\n",
    "\n",
    "plt.plot(x,y)\n",
    "plt.title(\"Norm of the latent2hidden layer in the decoder\")\n",
    "plt.show()"
   ]
  }
 ],
 "metadata": {
  "kernelspec": {
   "display_name": "Python 3.10.4 ('venv': venv)",
   "language": "python",
   "name": "python3"
  },
  "language_info": {
   "codemirror_mode": {
    "name": "ipython",
    "version": 3
   },
   "file_extension": ".py",
   "mimetype": "text/x-python",
   "name": "python",
   "nbconvert_exporter": "python",
   "pygments_lexer": "ipython3",
   "version": "3.10.4"
  },
  "vscode": {
   "interpreter": {
    "hash": "4e246ce75222e989c666f7216c747730a4a8c34eb3bb5a5e2c3570a2df45fd3b"
   }
  }
 },
 "nbformat": 4,
 "nbformat_minor": 5
}
