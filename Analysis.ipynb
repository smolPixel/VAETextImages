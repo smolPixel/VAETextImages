{
 "cells": [
  {
   "cell_type": "code",
   "execution_count": 12,
   "id": "dd18e4be",
   "metadata": {},
   "outputs": [],
   "source": [
    "import argparse\n",
    "import subprocess, os\n",
    "from process_data import *\n",
    "import random\n",
    "import numpy as np\n",
    "import torch\n",
    "from data.dataset import create_datasets\n",
    "from Generator.Generator import generator\n",
    "import yaml\n",
    "import matplotlib.pyplot as plt\n",
    "\n",
    "def set_seed(seed=42):\n",
    "    random.seed(seed)\n",
    "    np.random.seed(seed)\n",
    "    torch.manual_seed(seed)\n",
    "    torch.cuda.manual_seed_all(seed)\n",
    "    \n",
    "stream=open(\"Configs/SST-2/VAEAnneal.yaml\", \"r\")\n",
    "argsdict=yaml.safe_load(stream)\n",
    "if argsdict['computer'] == 'home':\n",
    "    argsdict['path'] = \"/media/frederic/VAETI\"\n",
    "elif argsdict['computer'] == 'labo':\n",
    "    argsdict['path'] = \"/u/piedboef/Documents/VAETI\"\n",
    "\n",
    "if argsdict['dataset'] == \"SST2\":\n",
    "    categories = [\"neg\", \"pos\"]\n",
    "elif argsdict['dataset'] == \"TREC6\":\n",
    "    categories = [\"ABBR\", \"DESC\", \"ENTY\", \"HUM\", \"LOC\", \"NUM\"]\n",
    "elif argsdict['dataset'] == \"FakeNews\":\n",
    "    categories = [\"Fake\", \"Real\"]\n",
    "elif argsdict['dataset'] == \"QNLI\":\n",
    "    categories = [\"entailment\", \"not_entailment\"]\n",
    "elif argsdict['dataset'] == \"Irony\":\n",
    "    categories = [\"NotIro\", \"Iro\"]\n",
    "elif argsdict['dataset'] == \"IronyB\":\n",
    "    categories = [\"Clash\", \"Situational\", \"Other\", \"NotIro\"]\n",
    "elif argsdict['dataset'] == 'MNIST':\n",
    "    categories = [0,1,2,3,4,5,6,7,8,9]\n",
    "else:\n",
    "    raise ValueError(\"Dataset not found\")\n",
    "argsdict['categories'] = categories\n",
    "\n",
    "argdict=argsdict\n",
    "    "
   ]
  },
  {
   "cell_type": "code",
   "execution_count": 5,
   "id": "2f00d9c9",
   "metadata": {},
   "outputs": [
    {
     "name": "stdout",
     "output_type": "stream",
     "text": [
      "Think about why there aint no embedding dropout on encoder?\n",
      "Think about why there aint no embedding dropout on encoder?\n",
      "VAE_model(\n",
      "  (encoder): encoder(\n",
      "    (model): GRU_Encoder(\n",
      "      (embedding): Embedding(14716, 300)\n",
      "      (rnn): GRU(300, 1024, batch_first=True)\n",
      "      (hidden2mean): Linear(in_features=1024, out_features=5, bias=True)\n",
      "      (hidden2logv): Linear(in_features=1024, out_features=5, bias=True)\n",
      "    )\n",
      "  )\n",
      "  (decoder): decoder(\n",
      "    (model): GRU_Decoder(\n",
      "      (latent2hidden): Linear(in_features=5, out_features=1024, bias=True)\n",
      "      (embedding): Embedding(14716, 300)\n",
      "      (rnn): GRU(300, 1024, batch_first=True)\n",
      "      (outputs2vocab): Linear(in_features=1024, out_features=14716, bias=True)\n",
      "    )\n",
      "  )\n",
      ")\n",
      "TRAIN Epoch 0/30, Mean ELBO 138.54209206957336, Mean LF 138.31178283691406, Mean KL div 0.23030203580856323\n",
      "DEV Epoch 0/30, Mean ELBO 130.362245287214, Mean LF 130.28440856933594, Mean KL div 0.07783125340938568\n",
      "TRAIN Epoch 1/30, Mean ELBO 122.82824966010698, Mean LF 122.76991271972656, Mean KL div 0.058322008699178696\n",
      "DEV Epoch 1/30, Mean ELBO 127.95409774780273, Mean LF 127.9261245727539, Mean KL div 0.0279749296605587\n",
      "TRAIN Epoch 2/30, Mean ELBO 115.43380821298022, Mean LF 115.40409851074219, Mean KL div 0.029704557731747627\n",
      "DEV Epoch 2/30, Mean ELBO 127.42374747140067, Mean LF 127.39952850341797, Mean KL div 0.024199899286031723\n",
      "TRAIN Epoch 3/30, Mean ELBO 107.90848989224216, Mean LF 107.8854751586914, Mean KL div 0.023019205778837204\n",
      "DEV Epoch 3/30, Mean ELBO 127.31280299595424, Mean LF 127.28015899658203, Mean KL div 0.03264586254954338\n",
      "TRAIN Epoch 4/30, Mean ELBO 100.09980171973552, Mean LF 100.0771484375, Mean KL div 0.02265320159494877\n",
      "DEV Epoch 4/30, Mean ELBO 128.41998018537248, Mean LF 128.3702850341797, Mean KL div 0.04969831183552742\n",
      "TRAIN Epoch 5/30, Mean ELBO 92.5344672946755, Mean LF 92.51239013671875, Mean KL div 0.02207404375076294\n",
      "DEV Epoch 5/30, Mean ELBO 129.14978517804826, Mean LF 129.1329345703125, Mean KL div 0.016855064779520035\n",
      "TRAIN Epoch 6/30, Mean ELBO 84.47678445238586, Mean LF 84.44762420654297, Mean KL div 0.029169775545597076\n",
      "DEV Epoch 6/30, Mean ELBO 130.80738394601005, Mean LF 130.7833251953125, Mean KL div 0.024061741307377815\n",
      "TRAIN Epoch 7/30, Mean ELBO 77.14814226342997, Mean LF 77.10260772705078, Mean KL div 0.04553479328751564\n",
      "DEV Epoch 7/30, Mean ELBO 132.43355996268136, Mean LF 132.35031127929688, Mean KL div 0.08324936777353287\n",
      "TRAIN Epoch 8/30, Mean ELBO 71.32959806809731, Mean LF 71.23234558105469, Mean KL div 0.09725362807512283\n",
      "DEV Epoch 8/30, Mean ELBO 133.80382101876395, Mean LF 133.66616821289062, Mean KL div 0.13764825463294983\n",
      "TRAIN Epoch 9/30, Mean ELBO 66.15416052582067, Mean LF 65.96117401123047, Mean KL div 0.19298702478408813\n",
      "DEV Epoch 9/30, Mean ELBO 135.60466602870397, Mean LF 135.35450744628906, Mean KL div 0.25013676285743713\n",
      "TRAIN Epoch 10/30, Mean ELBO 61.74105068521762, Mean LF 61.43268585205078, Mean KL div 0.3083637058734894\n",
      "DEV Epoch 10/30, Mean ELBO 136.872864314488, Mean LF 136.5030059814453, Mean KL div 0.369857519865036\n",
      "TRAIN Epoch 11/30, Mean ELBO 57.74330538128494, Mean LF 57.31122589111328, Mean KL div 0.4320785701274872\n",
      "DEV Epoch 11/30, Mean ELBO 138.37411335536413, Mean LF 137.9062957763672, Mean KL div 0.46781206130981445\n",
      "TRAIN Epoch 12/30, Mean ELBO 54.70005458866785, Mean LF 54.16111755371094, Mean KL div 0.5389317274093628\n",
      "DEV Epoch 12/30, Mean ELBO 140.2382207598005, Mean LF 139.5436248779297, Mean KL div 0.6946062445640564\n",
      "TRAIN Epoch 13/30, Mean ELBO 51.97384223588016, Mean LF 51.347469329833984, Mean KL div 0.626375138759613\n",
      "DEV Epoch 13/30, Mean ELBO 141.48917879377092, Mean LF 140.6642608642578, Mean KL div 0.8249255418777466\n",
      "TRAIN Epoch 14/30, Mean ELBO 49.53523919341761, Mean LF 48.804561614990234, Mean KL div 0.7306804656982422\n",
      "DEV Epoch 14/30, Mean ELBO 142.64452253069197, Mean LF 141.79624938964844, Mean KL div 0.8482770919799805\n",
      "TRAIN Epoch 15/30, Mean ELBO 47.16892602903034, Mean LF 46.34105682373047, Mean KL div 0.8278642892837524\n",
      "DEV Epoch 15/30, Mean ELBO 144.71535164969308, Mean LF 143.92161560058594, Mean KL div 0.7937336564064026\n",
      "TRAIN Epoch 16/30, Mean ELBO 45.36454394979214, Mean LF 44.4676513671875, Mean KL div 0.8968895077705383\n",
      "DEV Epoch 16/30, Mean ELBO 145.83336857387, Mean LF 144.8580780029297, Mean KL div 0.9752864837646484\n",
      "TRAIN Epoch 17/30, Mean ELBO 43.414400328189956, Mean LF 42.426876068115234, Mean KL div 0.9875295758247375\n",
      "DEV Epoch 17/30, Mean ELBO 147.6208768572126, Mean LF 146.5489959716797, Mean KL div 1.0718907117843628\n",
      "TRAIN Epoch 18/30, Mean ELBO 41.97472511081521, Mean LF 40.940582275390625, Mean KL div 1.0341371297836304\n",
      "DEV Epoch 18/30, Mean ELBO 148.81118883405412, Mean LF 147.68858337402344, Mean KL div 1.122619867324829\n",
      "TRAIN Epoch 19/30, Mean ELBO 40.5903977910313, Mean LF 39.535423278808594, Mean KL div 1.0549721717834473\n",
      "DEV Epoch 19/30, Mean ELBO 150.26086098807198, Mean LF 149.1221923828125, Mean KL div 1.1386725902557373\n",
      "TRAIN Epoch 20/30, Mean ELBO 39.227845358192376, Mean LF 38.11227035522461, Mean KL div 1.1155781745910645\n",
      "DEV Epoch 20/30, Mean ELBO 150.7750505719866, Mean LF 149.61683654785156, Mean KL div 1.1582081317901611\n",
      "TRAIN Epoch 21/30, Mean ELBO 38.0545934274656, Mean LF 36.89608383178711, Mean KL div 1.1585102081298828\n",
      "DEV Epoch 21/30, Mean ELBO 151.69458879743303, Mean LF 150.4620361328125, Mean KL div 1.2325471639633179\n",
      "TRAIN Epoch 22/30, Mean ELBO 37.155634906313836, Mean LF 35.97165298461914, Mean KL div 1.1839817762374878\n",
      "DEV Epoch 22/30, Mean ELBO 153.32498168945312, Mean LF 151.95399475097656, Mean KL div 1.3709920644760132\n",
      "TRAIN Epoch 23/30, Mean ELBO 36.48812203013569, Mean LF 35.27547836303711, Mean KL div 1.2126466035842896\n",
      "DEV Epoch 23/30, Mean ELBO 153.80672454833984, Mean LF 152.6263427734375, Mean KL div 1.1803796291351318\n",
      "TRAIN Epoch 24/30, Mean ELBO 35.1669689843414, Mean LF 33.9271240234375, Mean KL div 1.2398464679718018\n",
      "DEV Epoch 24/30, Mean ELBO 155.5632836478097, Mean LF 154.33763122558594, Mean KL div 1.2256479263305664\n",
      "TRAIN Epoch 25/30, Mean ELBO 34.77243482957193, Mean LF 33.48660659790039, Mean KL div 1.2858248949050903\n",
      "DEV Epoch 25/30, Mean ELBO 156.18807111467635, Mean LF 154.86660766601562, Mean KL div 1.32146155834198\n",
      "TRAIN Epoch 26/30, Mean ELBO 33.81810851490825, Mean LF 32.4913444519043, Mean KL div 1.326759696006775\n",
      "DEV Epoch 26/30, Mean ELBO 157.3243669782366, Mean LF 155.96556091308594, Mean KL div 1.3588000535964966\n",
      "TRAIN Epoch 27/30, Mean ELBO 33.14921538326718, Mean LF 31.79323387145996, Mean KL div 1.3559796810150146\n",
      "DEV Epoch 27/30, Mean ELBO 159.11836133684432, Mean LF 157.7356719970703, Mean KL div 1.3827030658721924\n",
      "TRAIN Epoch 28/30, Mean ELBO 32.82449349569618, Mean LF 31.428260803222656, Mean KL div 1.396230936050415\n",
      "DEV Epoch 28/30, Mean ELBO 159.42051587785994, Mean LF 158.03346252441406, Mean KL div 1.387058138847351\n",
      "TRAIN Epoch 29/30, Mean ELBO 32.19779606040465, Mean LF 30.774581909179688, Mean KL div 1.423215389251709\n",
      "DEV Epoch 29/30, Mean ELBO 160.47162519182478, Mean LF 159.05284118652344, Mean KL div 1.4187856912612915\n",
      "------------------\n",
      "one of the best of the year 2002\n",
      "------------------\n",
      "while the path may be familiar , first-time director denzel washington and a top-notch cast manage to keep things interesting .\n",
      "------------------\n",
      "while the path may be familiar , first-time director denzel washington and a top-notch cast manage to keep things interesting .\n",
      "------------------\n",
      "while the path may be familiar , first-time director denzel washington and a top-notch cast manage to keep things interesting .\n",
      "------------------\n",
      "the film is hampered by its predictable plot and paper-thin supporting characters .\n"
     ]
    },
    {
     "name": "stderr",
     "output_type": "stream",
     "text": [
      "/u/piedboef/Documents/VAETI/venv/lib/python3.10/site-packages/sklearn/manifold/_t_sne.py:795: FutureWarning: The default initialization in TSNE will change from 'random' to 'pca' in 1.2.\n",
      "  warnings.warn(\n",
      "/u/piedboef/Documents/VAETI/venv/lib/python3.10/site-packages/sklearn/manifold/_t_sne.py:805: FutureWarning: The default learning rate in TSNE will change from 200.0 to 'auto' in 1.2.\n",
      "  warnings.warn(\n"
     ]
    },
    {
     "name": "stdout",
     "output_type": "stream",
     "text": [
      "              x          y  labs  \\\n",
      "0     53.122715  30.282709   1.0   \n",
      "1      4.151909 -24.614895   0.0   \n",
      "2     34.894176 -37.138016   0.0   \n",
      "3     11.579072 -11.166628   1.0   \n",
      "4     21.776428  -0.447255   1.0   \n",
      "...         ...        ...   ...   \n",
      "6915 -14.271746 -29.106808   1.0   \n",
      "6916  40.455143   7.429922   0.0   \n",
      "6917 -34.420338  51.528374   0.0   \n",
      "6918  28.128973  28.425959   0.0   \n",
      "6919  60.161167  21.232077   1.0   \n",
      "\n",
      "                                                 points  \n",
      "0     [0.7487602233886719, -1.692699670791626, 1.081...  \n",
      "1     [-0.33825212717056274, 1.592329502105713, 0.17...  \n",
      "2     [1.5273380279541016, -0.8326377272605896, 1.36...  \n",
      "3     [-1.5710830688476562, 1.4663708209991455, 0.27...  \n",
      "4     [-0.9727094173431396, 0.11625269800424576, 0.6...  \n",
      "...                                                 ...  \n",
      "6915  [0.7181347012519836, 0.7679778337478638, -0.15...  \n",
      "6916  [0.18396636843681335, 0.34875842928886414, -0....  \n",
      "6917  [0.3488761782646179, -0.7347790598869324, -1.3...  \n",
      "6918  [-2.2609636783599854, -1.132071852684021, 0.42...  \n",
      "6919  [0.32710736989974976, -0.27488023042678833, 0....  \n",
      "\n",
      "[6920 rows x 4 columns]\n"
     ]
    },
    {
     "ename": "NameError",
     "evalue": "name 'sdffd' is not defined",
     "output_type": "error",
     "traceback": [
      "\u001b[0;31m---------------------------------------------------------------------------\u001b[0m",
      "\u001b[0;31mNameError\u001b[0m                                 Traceback (most recent call last)",
      "\u001b[1;32m/u/piedboef/Documents/VAETI/Analysis.ipynb Cell 2'\u001b[0m in \u001b[0;36m<cell line: 3>\u001b[0;34m()\u001b[0m\n\u001b[1;32m      <a href='vscode-notebook-cell://ssh-remote%2Boctal31/u/piedboef/Documents/VAETI/Analysis.ipynb#ch0000001vscode-remote?line=0'>1</a>\u001b[0m train, dev, test\u001b[39m=\u001b[39mcreate_datasets(argdict)\n\u001b[1;32m      <a href='vscode-notebook-cell://ssh-remote%2Boctal31/u/piedboef/Documents/VAETI/Analysis.ipynb#ch0000001vscode-remote?line=1'>2</a>\u001b[0m Gen \u001b[39m=\u001b[39m generator(argdict, train, dev, test)\n\u001b[0;32m----> <a href='vscode-notebook-cell://ssh-remote%2Boctal31/u/piedboef/Documents/VAETI/Analysis.ipynb#ch0000001vscode-remote?line=2'>3</a>\u001b[0m Gen\u001b[39m.\u001b[39;49mtrain()\n",
      "File \u001b[0;32m~/Documents/VAETI/Generator/Generator.py:38\u001b[0m, in \u001b[0;36mgenerator.train\u001b[0;34m(self)\u001b[0m\n\u001b[1;32m     37\u001b[0m \u001b[39mdef\u001b[39;00m \u001b[39mtrain\u001b[39m(\u001b[39mself\u001b[39m):\n\u001b[0;32m---> 38\u001b[0m     \u001b[39mself\u001b[39;49m\u001b[39m.\u001b[39;49mgenerator\u001b[39m.\u001b[39;49mtrain()\n",
      "File \u001b[0;32m~/Documents/VAETI/Generator/VAE/VAE.py:188\u001b[0m, in \u001b[0;36mVAE.train\u001b[0;34m(self)\u001b[0m\n\u001b[1;32m    186\u001b[0m \u001b[39mself\u001b[39m\u001b[39m.\u001b[39minterpolate()\n\u001b[1;32m    187\u001b[0m \u001b[39m# self.generate_from_train()\u001b[39;00m\n\u001b[0;32m--> 188\u001b[0m \u001b[39mself\u001b[39;49m\u001b[39m.\u001b[39;49mcreate_graph()\n",
      "File \u001b[0;32m~/Documents/VAETI/Generator/VAE/VAE.py:157\u001b[0m, in \u001b[0;36mVAE.create_graph\u001b[0;34m(self)\u001b[0m\n\u001b[1;32m    155\u001b[0m \u001b[39mprint\u001b[39m(df)\n\u001b[1;32m    156\u001b[0m df\u001b[39m.\u001b[39mto_csv(\u001b[39mf\u001b[39m\u001b[39m'\u001b[39m\u001b[39mgraph_\u001b[39m\u001b[39m{\u001b[39;00m\u001b[39mself\u001b[39m\u001b[39m.\u001b[39margdict[\u001b[39m\"\u001b[39m\u001b[39mdataset\u001b[39m\u001b[39m\"\u001b[39m]\u001b[39m}\u001b[39;00m\u001b[39m.tsv\u001b[39m\u001b[39m'\u001b[39m, sep\u001b[39m=\u001b[39m\u001b[39m'\u001b[39m\u001b[39m\\t\u001b[39;00m\u001b[39m'\u001b[39m)\n\u001b[0;32m--> 157\u001b[0m sdffd\n",
      "\u001b[0;31mNameError\u001b[0m: name 'sdffd' is not defined"
     ]
    }
   ],
   "source": [
    "train, dev, test=create_datasets(argdict)\n",
    "Gen = generator(argdict, train, dev, test)\n",
    "Gen.train()"
   ]
  },
  {
   "cell_type": "code",
   "execution_count": 14,
   "id": "2dcadb12",
   "metadata": {},
   "outputs": [
    {
     "data": {
      "image/png": "[encoded data removed]",
      "text/plain": [
       "<Figure size 432x288 with 1 Axes>"
      ]
     },
     "metadata": {
      "needs_background": "light"
     },
     "output_type": "display_data"
    }
   ],
   "source": [
    "y=Gen.generator.model.decoder.norm\n",
    "x=np.arange(len(y))\n",
    "\n",
    "plt.plot(x,y)\n",
    "plt.title(\"Norm of the latent2hidden layer in the decoder\")\n",
    "plt.show()"
   ]
  }
 ],
 "metadata": {
  "kernelspec": {
   "display_name": "Python 3.10.4 ('venv': venv)",
   "language": "python",
   "name": "python3"
  },
  "language_info": {
   "codemirror_mode": {
    "name": "ipython",
    "version": 3
   },
   "file_extension": ".py",
   "mimetype": "text/x-python",
   "name": "python",
   "nbconvert_exporter": "python",
   "pygments_lexer": "ipython3",
   "version": "3.10.4"
  },
  "vscode": {
   "interpreter": {
    "hash": "4e246ce75222e989c666f7216c747730a4a8c34eb3bb5a5e2c3570a2df45fd3b"
   }
  }
 },
 "nbformat": 4,
 "nbformat_minor": 5
}
